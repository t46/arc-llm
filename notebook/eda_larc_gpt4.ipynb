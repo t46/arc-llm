{
 "cells": [
  {
   "cell_type": "code",
   "execution_count": 1,
   "id": "6309259a-c4ec-45b9-81f5-868ea8bdc2ce",
   "metadata": {},
   "outputs": [],
   "source": [
    "import os\n",
    "import json\n",
    "from pathlib import Path\n",
    "import numpy as np\n",
    "import pandas as pd\n",
    "import matplotlib.pyplot as plt"
   ]
  },
  {
   "cell_type": "code",
   "execution_count": 2,
   "id": "be5fd40d-6ab9-4def-9349-a9c3a5921986",
   "metadata": {},
   "outputs": [],
   "source": [
    "path = '../data/larc_gpt4.json'"
   ]
  },
  {
   "cell_type": "code",
   "execution_count": 3,
   "id": "0b2a0d28-825f-49bd-baa2-459349b7ba34",
   "metadata": {},
   "outputs": [],
   "source": [
    "with open(path, 'r') as f:\n",
    "    data = json.load(f)"
   ]
  },
  {
   "cell_type": "code",
   "execution_count": 4,
   "id": "e8fb7b7c-b6cf-44ab-9a2c-4d9e9a92f63c",
   "metadata": {},
   "outputs": [],
   "source": [
    "df = pd.DataFrame(data)"
   ]
  },
  {
   "cell_type": "code",
   "execution_count": 5,
   "id": "e623da16-6441-408a-b419-e54ffd7fc0eb",
   "metadata": {},
   "outputs": [
    {
     "data": {
      "text/plain": [
       "364"
      ]
     },
     "execution_count": 5,
     "metadata": {},
     "output_type": "execute_result"
    }
   ],
   "source": [
    "len(df.name.unique())"
   ]
  },
  {
   "cell_type": "code",
   "execution_count": 6,
   "id": "f4320d72-d073-42ee-9107-0d1150698f45",
   "metadata": {},
   "outputs": [
    {
     "data": {
      "text/plain": [
       "{'description_input': 'In the input, you should see...a design with lines and empty squares.',\n",
       " 'description_output_grid_size': 'The output grid size...stays the same.',\n",
       " 'description_output': 'To make the output, you have to...look at the color that form the design in the input.Find any empty areas of blocks that are enclosed  by the lines that form the main design, fill them yellow.You should end with the same original design from the input, but with the empty areas filled yellow.'}"
      ]
     },
     "execution_count": 6,
     "metadata": {},
     "output_type": "execute_result"
    }
   ],
   "source": [
    "df.description.iloc[0]"
   ]
  },
  {
   "cell_type": "code",
   "execution_count": 7,
   "id": "487a5078-031f-413c-8efe-83b21b136e55",
   "metadata": {},
   "outputs": [
    {
     "data": {
      "text/plain": [
       "{'description_input': 'In the input, you should see... A random green pattern',\n",
       " 'description_output_grid_size': 'The output grid size... Remains the same as the input size',\n",
       " 'description_output': 'To make the output, you have to... Fill each enclosed hole with yellow'}"
      ]
     },
     "execution_count": 7,
     "metadata": {},
     "output_type": "execute_result"
    }
   ],
   "source": [
    "df.description.iloc[1]"
   ]
  },
  {
   "cell_type": "code",
   "execution_count": 8,
   "id": "f80d4f10-b657-412a-899e-8cad0ed17261",
   "metadata": {},
   "outputs": [
    {
     "data": {
      "text/plain": [
       "{'description_input': 'In the input, you should see...a grid that is 3x6 with black and blue.',\n",
       " 'description_output_grid_size': 'The output grid size...add 3 rows to the bottom.',\n",
       " 'description_output': 'To make the output, you have to...keep the original pattern, change the blue to red, and then continue the pattern in the new 3 rows.'}"
      ]
     },
     "execution_count": 8,
     "metadata": {},
     "output_type": "execute_result"
    }
   ],
   "source": [
    "df.description.iloc[2]"
   ]
  }
 ],
 "metadata": {
  "kernelspec": {
   "display_name": "Python 3 (ipykernel)",
   "language": "python",
   "name": "python3"
  },
  "language_info": {
   "codemirror_mode": {
    "name": "ipython",
    "version": 3
   },
   "file_extension": ".py",
   "mimetype": "text/x-python",
   "name": "python",
   "nbconvert_exporter": "python",
   "pygments_lexer": "ipython3",
   "version": "3.10.4"
  }
 },
 "nbformat": 4,
 "nbformat_minor": 5
}
