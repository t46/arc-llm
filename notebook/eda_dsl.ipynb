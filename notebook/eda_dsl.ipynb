{
 "cells": [
  {
   "cell_type": "code",
   "execution_count": 1,
   "id": "781232a8-29e9-4a43-9eaa-7af5a111694c",
   "metadata": {},
   "outputs": [],
   "source": [
    "import re\n",
    "import numpy as np\n",
    "\n",
    "def extract_function_calls(code):\n",
    "    pattern = r'(\\b\\w+\\b)\\s*\\('\n",
    "    matches = re.findall(pattern, code)\n",
    "    # 内部関数呼び出しのみを対象とするため、組み込み関数は除外\n",
    "    built_in_functions = dir(__builtins__)\n",
    "    filtered_matches = [match for match in matches if match not in built_in_functions]\n",
    "    return filtered_matches\n",
    "\n",
    "def preprocess_dsl(filepath):\n",
    "    with open(filepath, 'r') as f:\n",
    "        code = f.read()\n",
    "    functions = extract_function_calls(code)\n",
    "    sol_indices = []\n",
    "    for i, func in enumerate(functions):\n",
    "        if func.find('solve') != -1:\n",
    "            sol_indices.append(i)\n",
    "    sol_indices.append(len(functions))\n",
    "    sol_indices = np.array(sol_indices)\n",
    "    solve_names = np.array(functions)[sol_indices[:-1]]\n",
    "    return functions, sol_indices, solve_names\n",
    "\n",
    "def pick_dsls(task_id, functions, sol_indices, solve_names):\n",
    "    idx = (np.arange(400)[solve_names == ('solve_' + task_id)])[0]\n",
    "    return set(functions[int(sol_indices[idx])+1:int(sol_indices[idx+1])])"
   ]
  },
  {
   "cell_type": "code",
   "execution_count": 2,
   "id": "266dae29-853e-4ef4-ad31-2e826ce16a81",
   "metadata": {},
   "outputs": [],
   "source": [
    "filepath = '../arc-dsl/solvers.py'\n",
    "fss = preprocess_dsl(filepath)"
   ]
  },
  {
   "cell_type": "code",
   "execution_count": 3,
   "id": "42bd878e-1c07-468f-b034-6c396142f2d5",
   "metadata": {},
   "outputs": [
    {
     "data": {
      "text/plain": [
       "{'colorfilter', 'compose', 'fill', 'mfilter', 'objects', 'rbind'}"
      ]
     },
     "execution_count": 3,
     "metadata": {},
     "output_type": "execute_result"
    }
   ],
   "source": [
    "task_id = '00d62c1b'\n",
    "pick_dsls(task_id, *fss)"
   ]
  },
  {
   "cell_type": "code",
   "execution_count": 4,
   "id": "4c8e0ef4-ac64-40c1-b499-2f2b8594b27d",
   "metadata": {},
   "outputs": [
    {
     "data": {
      "text/plain": [
       "{'cellwise', 'lefthalf', 'replace', 'righthalf', 'vmirror'}"
      ]
     },
     "execution_count": 4,
     "metadata": {},
     "output_type": "execute_result"
    }
   ],
   "source": [
    "task_id = '0520fde7'\n",
    "pick_dsls(task_id, *fss)"
   ]
  },
  {
   "cell_type": "code",
   "execution_count": 5,
   "id": "902ca8fe-84c5-4880-b054-28ba10b0ca16",
   "metadata": {},
   "outputs": [],
   "source": [
    "task_ids = ['00d62c1b', '00d62c1b', '017c7c7b', '0520fde7', '05269061', '05f2a901', '05f2a901', '06df4c85', '06df4c85', '08ed6ac7']"
   ]
  },
  {
   "cell_type": "code",
   "execution_count": 7,
   "id": "0aeec59b-2426-4cc2-9042-8ecc03dfee28",
   "metadata": {},
   "outputs": [
    {
     "name": "stdout",
     "output_type": "stream",
     "text": [
      "00d62c1b {'mfilter', 'compose', 'colorfilter', 'objects', 'fill', 'rbind'}\n",
      "00d62c1b {'mfilter', 'compose', 'colorfilter', 'objects', 'fill', 'rbind'}\n",
      "017c7c7b {'crop', 'branch', 'replace', 'equality', 'vconcat', 'bottomhalf', 'tophalf'}\n",
      "0520fde7 {'cellwise', 'replace', 'vmirror', 'lefthalf', 'righthalf'}\n",
      "05269061 {'apply', 'merge', 'shift', 'mapply', 'objects', 'lbind', 'paint', 'neighbors', 'rbind'}\n",
      "05f2a901 {'first', 'colorfilter', 'objects', 'gravitate', 'move'}\n",
      "05f2a901 {'first', 'colorfilter', 'objects', 'gravitate', 'move'}\n",
      "06df4c85 {'sfilter', 'mfilter', 'apply', 'product', 'ofcolor', 'merge', 'power', 'colorfilter', 'argmax', 'compose', 'mostcolor', 'difference', 'paint', 'fill', 'remove', 'fork', 'partition'}\n",
      "06df4c85 {'sfilter', 'mfilter', 'apply', 'product', 'ofcolor', 'merge', 'power', 'colorfilter', 'argmax', 'compose', 'mostcolor', 'difference', 'paint', 'fill', 'remove', 'fork', 'partition'}\n",
      "08ed6ac7 {'size', 'objects', 'mpapply', 'paint', 'totuple', 'interval', 'order'}\n"
     ]
    }
   ],
   "source": [
    "for tid in task_ids:\n",
    "    print(tid, pick_dsls(tid, *fss))"
   ]
  },
  {
   "cell_type": "code",
   "execution_count": null,
   "id": "434a1e26-a785-447e-b5c7-93ee6b382a8f",
   "metadata": {},
   "outputs": [],
   "source": []
  },
  {
   "cell_type": "code",
   "execution_count": null,
   "id": "40e5301a-068f-4c11-9790-0824209a135f",
   "metadata": {},
   "outputs": [],
   "source": []
  }
 ],
 "metadata": {
  "kernelspec": {
   "display_name": "Python 3 (ipykernel)",
   "language": "python",
   "name": "python3"
  },
  "language_info": {
   "codemirror_mode": {
    "name": "ipython",
    "version": 3
   },
   "file_extension": ".py",
   "mimetype": "text/x-python",
   "name": "python",
   "nbconvert_exporter": "python",
   "pygments_lexer": "ipython3",
   "version": "3.10.4"
  }
 },
 "nbformat": 4,
 "nbformat_minor": 5
}
